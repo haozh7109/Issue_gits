{
  "nbformat": 4,
  "nbformat_minor": 0,
  "metadata": {
    "colab": {
      "provenance": []
    },
    "kernelspec": {
      "name": "python3",
      "display_name": "Python 3"
    },
    "language_info": {
      "name": "python"
    }
  },
  "cells": [
    {
      "cell_type": "code",
      "metadata": {
        "id": "3d_BcSWcxM3d",
        "colab": {
          "base_uri": "https://localhost:8080/"
        },
        "outputId": "102504cc-3d80-4ba2-fe9a-6bf5a78f01c6"
      },
      "source": [
        "!pip install tensorflow==2.11\n",
        "import tensorflow as tf\n",
        "import numpy as np\n",
        "from tensorflow.keras.layers import Layer\n",
        "from tensorflow.python.framework.ops import disable_eager_execution"
      ],
      "execution_count": null,
      "outputs": [
        {
          "output_type": "stream",
          "name": "stdout",
          "text": [
            "Looking in indexes: https://pypi.org/simple, https://us-python.pkg.dev/colab-wheels/public/simple/\n",
            "Collecting tensorflow==2.11\n",
            "  Downloading tensorflow-2.11.0-cp38-cp38-manylinux_2_17_x86_64.manylinux2014_x86_64.whl (588.3 MB)\n",
            "\u001b[K     |████████████████████████████████| 588.3 MB 25 kB/s \n",
            "\u001b[?25hCollecting flatbuffers>=2.0\n",
            "  Downloading flatbuffers-22.12.6-py2.py3-none-any.whl (26 kB)\n",
            "Requirement already satisfied: termcolor>=1.1.0 in /usr/local/lib/python3.8/dist-packages (from tensorflow==2.11) (2.1.1)\n",
            "Collecting keras<2.12,>=2.11.0\n",
            "  Downloading keras-2.11.0-py2.py3-none-any.whl (1.7 MB)\n",
            "\u001b[K     |████████████████████████████████| 1.7 MB 71.2 MB/s \n",
            "\u001b[?25hRequirement already satisfied: gast<=0.4.0,>=0.2.1 in /usr/local/lib/python3.8/dist-packages (from tensorflow==2.11) (0.4.0)\n",
            "Requirement already satisfied: setuptools in /usr/local/lib/python3.8/dist-packages (from tensorflow==2.11) (57.4.0)\n",
            "Requirement already satisfied: tensorflow-io-gcs-filesystem>=0.23.1 in /usr/local/lib/python3.8/dist-packages (from tensorflow==2.11) (0.28.0)\n",
            "Requirement already satisfied: wrapt>=1.11.0 in /usr/local/lib/python3.8/dist-packages (from tensorflow==2.11) (1.14.1)\n",
            "Requirement already satisfied: absl-py>=1.0.0 in /usr/local/lib/python3.8/dist-packages (from tensorflow==2.11) (1.3.0)\n",
            "Requirement already satisfied: google-pasta>=0.1.1 in /usr/local/lib/python3.8/dist-packages (from tensorflow==2.11) (0.2.0)\n",
            "Collecting tensorboard<2.12,>=2.11\n",
            "  Downloading tensorboard-2.11.0-py3-none-any.whl (6.0 MB)\n",
            "\u001b[K     |████████████████████████████████| 6.0 MB 42.1 MB/s \n",
            "\u001b[?25hRequirement already satisfied: packaging in /usr/local/lib/python3.8/dist-packages (from tensorflow==2.11) (21.3)\n",
            "Requirement already satisfied: six>=1.12.0 in /usr/local/lib/python3.8/dist-packages (from tensorflow==2.11) (1.15.0)\n",
            "Requirement already satisfied: grpcio<2.0,>=1.24.3 in /usr/local/lib/python3.8/dist-packages (from tensorflow==2.11) (1.51.1)\n",
            "Requirement already satisfied: protobuf<3.20,>=3.9.2 in /usr/local/lib/python3.8/dist-packages (from tensorflow==2.11) (3.19.6)\n",
            "Requirement already satisfied: opt-einsum>=2.3.2 in /usr/local/lib/python3.8/dist-packages (from tensorflow==2.11) (3.3.0)\n",
            "Requirement already satisfied: astunparse>=1.6.0 in /usr/local/lib/python3.8/dist-packages (from tensorflow==2.11) (1.6.3)\n",
            "Requirement already satisfied: typing-extensions>=3.6.6 in /usr/local/lib/python3.8/dist-packages (from tensorflow==2.11) (4.4.0)\n",
            "Requirement already satisfied: h5py>=2.9.0 in /usr/local/lib/python3.8/dist-packages (from tensorflow==2.11) (3.1.0)\n",
            "Requirement already satisfied: libclang>=13.0.0 in /usr/local/lib/python3.8/dist-packages (from tensorflow==2.11) (14.0.6)\n",
            "Collecting tensorflow-estimator<2.12,>=2.11.0\n",
            "  Downloading tensorflow_estimator-2.11.0-py2.py3-none-any.whl (439 kB)\n",
            "\u001b[K     |████████████████████████████████| 439 kB 79.2 MB/s \n",
            "\u001b[?25hRequirement already satisfied: numpy>=1.20 in /usr/local/lib/python3.8/dist-packages (from tensorflow==2.11) (1.21.6)\n",
            "Requirement already satisfied: wheel<1.0,>=0.23.0 in /usr/local/lib/python3.8/dist-packages (from astunparse>=1.6.0->tensorflow==2.11) (0.38.4)\n",
            "Requirement already satisfied: tensorboard-data-server<0.7.0,>=0.6.0 in /usr/local/lib/python3.8/dist-packages (from tensorboard<2.12,>=2.11->tensorflow==2.11) (0.6.1)\n",
            "Requirement already satisfied: google-auth<3,>=1.6.3 in /usr/local/lib/python3.8/dist-packages (from tensorboard<2.12,>=2.11->tensorflow==2.11) (2.15.0)\n",
            "Requirement already satisfied: tensorboard-plugin-wit>=1.6.0 in /usr/local/lib/python3.8/dist-packages (from tensorboard<2.12,>=2.11->tensorflow==2.11) (1.8.1)\n",
            "Requirement already satisfied: google-auth-oauthlib<0.5,>=0.4.1 in /usr/local/lib/python3.8/dist-packages (from tensorboard<2.12,>=2.11->tensorflow==2.11) (0.4.6)\n",
            "Requirement already satisfied: markdown>=2.6.8 in /usr/local/lib/python3.8/dist-packages (from tensorboard<2.12,>=2.11->tensorflow==2.11) (3.4.1)\n",
            "Requirement already satisfied: requests<3,>=2.21.0 in /usr/local/lib/python3.8/dist-packages (from tensorboard<2.12,>=2.11->tensorflow==2.11) (2.23.0)\n",
            "Requirement already satisfied: werkzeug>=1.0.1 in /usr/local/lib/python3.8/dist-packages (from tensorboard<2.12,>=2.11->tensorflow==2.11) (1.0.1)\n",
            "Requirement already satisfied: cachetools<6.0,>=2.0.0 in /usr/local/lib/python3.8/dist-packages (from google-auth<3,>=1.6.3->tensorboard<2.12,>=2.11->tensorflow==2.11) (5.2.0)\n",
            "Requirement already satisfied: rsa<5,>=3.1.4 in /usr/local/lib/python3.8/dist-packages (from google-auth<3,>=1.6.3->tensorboard<2.12,>=2.11->tensorflow==2.11) (4.9)\n",
            "Requirement already satisfied: pyasn1-modules>=0.2.1 in /usr/local/lib/python3.8/dist-packages (from google-auth<3,>=1.6.3->tensorboard<2.12,>=2.11->tensorflow==2.11) (0.2.8)\n",
            "Requirement already satisfied: requests-oauthlib>=0.7.0 in /usr/local/lib/python3.8/dist-packages (from google-auth-oauthlib<0.5,>=0.4.1->tensorboard<2.12,>=2.11->tensorflow==2.11) (1.3.1)\n",
            "Requirement already satisfied: importlib-metadata>=4.4 in /usr/local/lib/python3.8/dist-packages (from markdown>=2.6.8->tensorboard<2.12,>=2.11->tensorflow==2.11) (4.13.0)\n",
            "Requirement already satisfied: zipp>=0.5 in /usr/local/lib/python3.8/dist-packages (from importlib-metadata>=4.4->markdown>=2.6.8->tensorboard<2.12,>=2.11->tensorflow==2.11) (3.11.0)\n",
            "Requirement already satisfied: pyasn1<0.5.0,>=0.4.6 in /usr/local/lib/python3.8/dist-packages (from pyasn1-modules>=0.2.1->google-auth<3,>=1.6.3->tensorboard<2.12,>=2.11->tensorflow==2.11) (0.4.8)\n",
            "Requirement already satisfied: chardet<4,>=3.0.2 in /usr/local/lib/python3.8/dist-packages (from requests<3,>=2.21.0->tensorboard<2.12,>=2.11->tensorflow==2.11) (3.0.4)\n",
            "Requirement already satisfied: certifi>=2017.4.17 in /usr/local/lib/python3.8/dist-packages (from requests<3,>=2.21.0->tensorboard<2.12,>=2.11->tensorflow==2.11) (2022.9.24)\n",
            "Requirement already satisfied: urllib3!=1.25.0,!=1.25.1,<1.26,>=1.21.1 in /usr/local/lib/python3.8/dist-packages (from requests<3,>=2.21.0->tensorboard<2.12,>=2.11->tensorflow==2.11) (1.24.3)\n",
            "Requirement already satisfied: idna<3,>=2.5 in /usr/local/lib/python3.8/dist-packages (from requests<3,>=2.21.0->tensorboard<2.12,>=2.11->tensorflow==2.11) (2.10)\n",
            "Requirement already satisfied: oauthlib>=3.0.0 in /usr/local/lib/python3.8/dist-packages (from requests-oauthlib>=0.7.0->google-auth-oauthlib<0.5,>=0.4.1->tensorboard<2.12,>=2.11->tensorflow==2.11) (3.2.2)\n",
            "Requirement already satisfied: pyparsing!=3.0.5,>=2.0.2 in /usr/local/lib/python3.8/dist-packages (from packaging->tensorflow==2.11) (3.0.9)\n",
            "Installing collected packages: tensorflow-estimator, tensorboard, keras, flatbuffers, tensorflow\n",
            "  Attempting uninstall: tensorflow-estimator\n",
            "    Found existing installation: tensorflow-estimator 2.9.0\n",
            "    Uninstalling tensorflow-estimator-2.9.0:\n",
            "      Successfully uninstalled tensorflow-estimator-2.9.0\n",
            "  Attempting uninstall: tensorboard\n",
            "    Found existing installation: tensorboard 2.9.1\n",
            "    Uninstalling tensorboard-2.9.1:\n",
            "      Successfully uninstalled tensorboard-2.9.1\n",
            "  Attempting uninstall: keras\n",
            "    Found existing installation: keras 2.9.0\n",
            "    Uninstalling keras-2.9.0:\n",
            "      Successfully uninstalled keras-2.9.0\n",
            "  Attempting uninstall: flatbuffers\n",
            "    Found existing installation: flatbuffers 1.12\n",
            "    Uninstalling flatbuffers-1.12:\n",
            "      Successfully uninstalled flatbuffers-1.12\n",
            "  Attempting uninstall: tensorflow\n",
            "    Found existing installation: tensorflow 2.9.2\n",
            "    Uninstalling tensorflow-2.9.2:\n",
            "      Successfully uninstalled tensorflow-2.9.2\n",
            "Successfully installed flatbuffers-22.12.6 keras-2.11.0 tensorboard-2.11.0 tensorflow-2.11.0 tensorflow-estimator-2.11.0\n"
          ]
        }
      ]
    },
    {
      "cell_type": "code",
      "metadata": {
        "colab": {
          "base_uri": "https://localhost:8080/"
        },
        "id": "tBAHlAzFzEh4",
        "outputId": "3e3c8950-6e46-416b-ce34-285e7285769f"
      },
      "source": [
        "print(tf.__version__)"
      ],
      "execution_count": null,
      "outputs": [
        {
          "output_type": "stream",
          "name": "stdout",
          "text": [
            "2.11.0\n"
          ]
        }
      ]
    },
    {
      "cell_type": "code",
      "metadata": {
        "colab": {
          "base_uri": "https://localhost:8080/"
        },
        "id": "4_dewDANzFUp",
        "outputId": "4e30585d-c913-46aa-a918-736314a735fe"
      },
      "source": [
        "non_eager_execution = False\n",
        "if non_eager_execution: \n",
        "   tf.compat.v1.disable_eager_execution()\n",
        "else:\n",
        "   tf.config.run_functions_eagerly(True)\n",
        "\n",
        "print(\"Eager execution is: \" + str(tf.executing_eagerly()))"
      ],
      "execution_count": null,
      "outputs": [
        {
          "output_type": "stream",
          "name": "stdout",
          "text": [
            "Eager execution is: True\n"
          ]
        }
      ]
    },
    {
      "cell_type": "markdown",
      "metadata": {
        "id": "ZdHL3QTW0pyr"
      },
      "source": [
        "\n",
        "\n",
        "*(1) define the custom RNN layer*"
      ]
    },
    {
      "cell_type": "code",
      "metadata": {
        "id": "iS42aYiJzVKw"
      },
      "source": [
        "class RNN_simple_layer(Layer):\n",
        "\n",
        "    def __init__(self, neurons_numbers, return_sequences=False, **kwargs):\n",
        "        super(RNN_simple_layer, self).__init__()\n",
        "        self.neurons_numbers = neurons_numbers\n",
        "        self.return_sequences = return_sequences\n",
        "\n",
        "    def build(self, input_shape):\n",
        "        self.kernel_input = self.add_weight('kernel_input', shape=[int(input_shape[-1]), self.neurons_numbers],\n",
        "                                            initializer=\"random_normal\", trainable=True)\n",
        "        self.kernel_state = self.add_weight('kernel_state', shape=[self.neurons_numbers, self.neurons_numbers],\n",
        "                                            initializer=\"random_normal\", trainable=True)\n",
        "        self.bias = self.add_weight('bias', shape=[self.neurons_numbers, ], initializer=\"zeros\", trainable=True)\n",
        "\n",
        "    @tf.function\n",
        "    def call(self, inputs):\n",
        "        sequence_length = inputs.shape[-2]\n",
        "\n",
        "        # outputs = []\n",
        "        outputs = tf.TensorArray(tf.float32, size=sequence_length, dynamic_size=True)\n",
        "\n",
        "        for i_step in range(sequence_length):\n",
        "            if i_step == 0:\n",
        "                states = tf.zeros(shape=[tf.shape(inputs)[0], self.neurons_numbers])\n",
        "\n",
        "            output_i_step = tf.tanh(\n",
        "                tf.matmul(inputs[:, i_step, :], self.kernel_input) + tf.matmul(states, self.kernel_state) + self.bias)\n",
        "            states = output_i_step\n",
        "            outputs = outputs.write(i_step, output_i_step)\n",
        "\n",
        "        # output the RNN resuts\n",
        "        if self.return_sequences == True:\n",
        "            output = tf.transpose(outputs.stack(), [1, 0, 2])\n",
        "        else:\n",
        "            output = outputs.stack()[-1]\n",
        "        return output\n",
        "\n",
        "    def get_config(self):\n",
        "        config = super(RNN_simple_layer, self).get_config()\n",
        "        config.update({\n",
        "            'neurons_numbers': self.neurons_numbers,\n",
        "            'return_sequences': self.return_sequences\n",
        "        })\n",
        "        return config\n"
      ],
      "execution_count": null,
      "outputs": []
    },
    {
      "cell_type": "markdown",
      "metadata": {
        "id": "8djwhyKa04P5"
      },
      "source": [
        "*(2) Test the customized simple RNN layer*"
      ]
    },
    {
      "cell_type": "code",
      "metadata": {
        "colab": {
          "base_uri": "https://localhost:8080/"
        },
        "id": "T3sD28XT0ROi",
        "outputId": "1af3790b-00cc-4959-cac7-1b0dd53a7b46"
      },
      "source": [
        "# test with customized layers\n",
        "RNN_layer    = RNN_simple_layer(4,return_sequences=True)\n",
        "# RNN_layer    = RNN_simple_layer(4,return_sequences=False)\n",
        "input_array  = tf.ones((32,10,8))\n",
        "output_array = RNN_layer(input_array)\n",
        "\n",
        "print('RNN input tensor shape:' + str(input_array.shape))\n",
        "print('RNN input tensor has batch size:' + str(input_array.shape[0]))\n",
        "print('RNN input tensor has time samples:' + str(input_array.shape[-2]))\n",
        "print('RNN input tensor has features of each sample:' + str(input_array.shape[-1]))\n",
        "print('RNN output tensor shape:' + str(output_array.shape))"
      ],
      "execution_count": null,
      "outputs": [
        {
          "output_type": "stream",
          "name": "stdout",
          "text": [
            "RNN input tensor shape:(32, 10, 8)\n",
            "RNN input tensor has batch size:32\n",
            "RNN input tensor has time samples:10\n",
            "RNN input tensor has features of each sample:8\n",
            "RNN output tensor shape:(32, 10, 4)\n"
          ]
        }
      ]
    },
    {
      "cell_type": "markdown",
      "metadata": {
        "id": "lInH_LAb1LZo"
      },
      "source": [
        "*(3) Build a dummy Tensorflow model*"
      ]
    },
    {
      "cell_type": "code",
      "metadata": {
        "colab": {
          "base_uri": "https://localhost:8080/"
        },
        "id": "tS9kqnMz0aCF",
        "outputId": "187d20c9-3679-45f8-de79-9cf65ae13693"
      },
      "source": [
        "inputs  = tf.keras.Input(shape=(10,20))\n",
        "x       = tf.keras.layers.Conv1D(10,3)(inputs)\n",
        "x       = RNN_simple_layer(4,return_sequences=True)(x)\n",
        "outputs = tf.keras.layers.Dense(30, activation=\"relu\")(x)\n",
        "\n",
        "model = tf.keras.Model(inputs=inputs, outputs=outputs, name=\"test_model\")\n",
        "model.summary()\n"
      ],
      "execution_count": null,
      "outputs": [
        {
          "output_type": "stream",
          "name": "stdout",
          "text": [
            "Model: \"test_model\"\n",
            "_________________________________________________________________\n",
            " Layer (type)                Output Shape              Param #   \n",
            "=================================================================\n",
            " input_1 (InputLayer)        [(None, 10, 20)]          0         \n",
            "                                                                 \n",
            " conv1d (Conv1D)             (None, 8, 10)             610       \n",
            "                                                                 \n",
            " rnn_simple_layer_1 (RNN_sim  (None, None, 4)          60        \n",
            " ple_layer)                                                      \n",
            "                                                                 \n",
            " dense (Dense)               (None, None, 30)          150       \n",
            "                                                                 \n",
            "=================================================================\n",
            "Total params: 820\n",
            "Trainable params: 820\n",
            "Non-trainable params: 0\n",
            "_________________________________________________________________\n"
          ]
        }
      ]
    },
    {
      "cell_type": "markdown",
      "metadata": {
        "id": "tkNG7_zP1aTm"
      },
      "source": [
        "*(4) save the dummy model*"
      ]
    },
    {
      "cell_type": "code",
      "metadata": {
        "colab": {
          "base_uri": "https://localhost:8080/"
        },
        "id": "-M-BD8DJ0cL1",
        "outputId": "1063fac5-bb89-4aba-925f-35d57c69e306"
      },
      "source": [
        "model.save('Model_simple_RNN')\n",
        "\n",
        "model_load = tf.keras.models.load_model('Model_simple_RNN')\n",
        "model_load.summary()"
      ],
      "execution_count": null,
      "outputs": [
        {
          "output_type": "stream",
          "name": "stderr",
          "text": [
            "WARNING:tensorflow:Compiled the loaded model, but the compiled metrics have yet to be built. `model.compile_metrics` will be empty until you train or evaluate the model.\n",
            "WARNING:absl:Found untraced functions such as _jit_compiled_convolution_op, call while saving (showing 2 of 2). These functions will not be directly callable after loading.\n",
            "WARNING:tensorflow:No training configuration found in save file, so the model was *not* compiled. Compile it manually.\n"
          ]
        },
        {
          "output_type": "stream",
          "name": "stdout",
          "text": [
            "Model: \"test_model\"\n",
            "_________________________________________________________________\n",
            " Layer (type)                Output Shape              Param #   \n",
            "=================================================================\n",
            " input_1 (InputLayer)        [(None, 10, 20)]          0         \n",
            "                                                                 \n",
            " conv1d (Conv1D)             (None, 8, 10)             610       \n",
            "                                                                 \n",
            " rnn_simple_layer_1 (RNN_sim  (None, None, 4)          60        \n",
            " ple_layer)                                                      \n",
            "                                                                 \n",
            " dense (Dense)               (None, None, 30)          150       \n",
            "                                                                 \n",
            "=================================================================\n",
            "Total params: 820\n",
            "Trainable params: 820\n",
            "Non-trainable params: 0\n",
            "_________________________________________________________________\n"
          ]
        }
      ]
    },
    {
      "cell_type": "markdown",
      "metadata": {
        "id": "v4tlRUXo1q8P"
      },
      "source": [
        "*(5) Convert the dummy model to tensorflow-lite model*"
      ]
    },
    {
      "cell_type": "code",
      "source": [
        "from tensorflow import lite\n",
        "\n",
        "converter = lite.TFLiteConverter.from_saved_model('Model_simple_RNN')\n",
        "\n",
        "converter.optimizations = [tf.lite.Optimize.DEFAULT]\n",
        "converter.experimental_new_converter=True\n",
        "converter.target_spec.supported_ops = [tf.lite.OpsSet.TFLITE_BUILTINS,tf.lite.OpsSet.SELECT_TF_OPS]\n",
        "\n",
        "tfmodel = converter.convert()\n",
        "open('Model_simple_RNN_TF28.tflite', 'wb').write(tfmodel)"
      ],
      "metadata": {
        "colab": {
          "base_uri": "https://localhost:8080/"
        },
        "id": "ccZ-A_mWnDZd",
        "outputId": "5924aae5-4c0f-43c0-cfd7-6c0514db389b"
      },
      "execution_count": null,
      "outputs": [
        {
          "output_type": "execute_result",
          "data": {
            "text/plain": [
              "33452"
            ]
          },
          "metadata": {},
          "execution_count": 8
        }
      ]
    },
    {
      "cell_type": "code",
      "metadata": {
        "id": "gb1-juLa0fCd"
      },
      "source": [
        "# converter               = tf.lite.TFLiteConverter.from_saved_model('Model_simple_RNN')\n",
        "# converter.optimizations = [tf.lite.Optimize.DEFAULT]\n",
        "# converter.target_spec.supported_types = [tf.float32]\n",
        "\n",
        "# tflite_model_file = 'Model_simple_RNN_TF28.tflite'\n",
        "# tflite_model      = converter.convert()\n",
        "\n",
        "# with open(tflite_model_file, \"wb\") as f:\n",
        "#     f.write(tflite_model)"
      ],
      "execution_count": null,
      "outputs": []
    },
    {
      "cell_type": "code",
      "metadata": {
        "id": "TV4Pi7eW1kxp"
      },
      "source": [],
      "execution_count": null,
      "outputs": []
    }
  ]
}