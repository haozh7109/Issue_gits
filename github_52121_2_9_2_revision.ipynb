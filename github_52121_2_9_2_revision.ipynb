{
  "nbformat": 4,
  "nbformat_minor": 0,
  "metadata": {
    "colab": {
      "provenance": []
    },
    "kernelspec": {
      "name": "python3",
      "display_name": "Python 3"
    },
    "language_info": {
      "name": "python"
    }
  },
  "cells": [
    {
      "cell_type": "code",
      "metadata": {
        "id": "3d_BcSWcxM3d"
      },
      "source": [
        "import tensorflow as tf\n",
        "import numpy as np\n",
        "from tensorflow.keras.layers import Layer\n",
        "from tensorflow.python.framework.ops import disable_eager_execution"
      ],
      "execution_count": null,
      "outputs": []
    },
    {
      "cell_type": "code",
      "metadata": {
        "colab": {
          "base_uri": "https://localhost:8080/"
        },
        "id": "tBAHlAzFzEh4",
        "outputId": "fd8a5443-e13d-4e19-baab-de5af7d90daa"
      },
      "source": [
        "print(tf.__version__)"
      ],
      "execution_count": null,
      "outputs": [
        {
          "output_type": "stream",
          "name": "stdout",
          "text": [
            "2.9.2\n"
          ]
        }
      ]
    },
    {
      "cell_type": "code",
      "metadata": {
        "colab": {
          "base_uri": "https://localhost:8080/"
        },
        "id": "4_dewDANzFUp",
        "outputId": "0ebd2a6f-1f2b-4801-9ab7-6e78e63a2659"
      },
      "source": [
        "non_eager_execution = False\n",
        "if non_eager_execution: \n",
        "   tf.compat.v1.disable_eager_execution()\n",
        "else:\n",
        "   tf.config.run_functions_eagerly(True)\n",
        "\n",
        "print(\"Eager execution is: \" + str(tf.executing_eagerly()))"
      ],
      "execution_count": null,
      "outputs": [
        {
          "output_type": "stream",
          "name": "stdout",
          "text": [
            "Eager execution is: True\n"
          ]
        }
      ]
    },
    {
      "cell_type": "markdown",
      "metadata": {
        "id": "ZdHL3QTW0pyr"
      },
      "source": [
        "\n",
        "\n",
        "*(1) define the custom RNN layer*"
      ]
    },
    {
      "cell_type": "code",
      "metadata": {
        "id": "iS42aYiJzVKw"
      },
      "source": [
        "class RNN_simple_layer(Layer):\n",
        "\n",
        "    def __init__(self, neurons_numbers, return_sequences=False, **kwargs):\n",
        "        super(RNN_simple_layer, self).__init__()\n",
        "        self.neurons_numbers = neurons_numbers\n",
        "        self.return_sequences = return_sequences\n",
        "\n",
        "    def build(self, input_shape):\n",
        "        self.kernel_input = self.add_weight('kernel_input', shape=[int(input_shape[-1]), self.neurons_numbers],\n",
        "                                            initializer=\"random_normal\", trainable=True)\n",
        "        self.kernel_state = self.add_weight('kernel_state', shape=[self.neurons_numbers, self.neurons_numbers],\n",
        "                                            initializer=\"random_normal\", trainable=True)\n",
        "        self.bias = self.add_weight('bias', shape=[self.neurons_numbers, ], initializer=\"zeros\", trainable=True)\n",
        "\n",
        "    @tf.function\n",
        "    def call(self, inputs):\n",
        "        sequence_length = inputs.shape[-2]\n",
        "\n",
        "        # outputs = []\n",
        "        outputs = tf.TensorArray(tf.float32, size=sequence_length, dynamic_size=True)\n",
        "\n",
        "        for i_step in range(sequence_length):\n",
        "            if i_step == 0:\n",
        "                states = tf.zeros(shape=[tf.shape(inputs)[0], self.neurons_numbers])\n",
        "\n",
        "            output_i_step = tf.tanh(\n",
        "                tf.matmul(inputs[:, i_step, :], self.kernel_input) + tf.matmul(states, self.kernel_state) + self.bias)\n",
        "            states = output_i_step\n",
        "            outputs = outputs.write(i_step, output_i_step)\n",
        "\n",
        "        # output the RNN resuts\n",
        "        if self.return_sequences == True:\n",
        "            output = tf.transpose(outputs.stack(), [1, 0, 2])\n",
        "        else:\n",
        "            output = outputs.stack()[-1]\n",
        "        return output\n",
        "\n",
        "    def get_config(self):\n",
        "        config = super(RNN_simple_layer, self).get_config()\n",
        "        config.update({\n",
        "            'neurons_numbers': self.neurons_numbers,\n",
        "            'return_sequences': self.return_sequences\n",
        "        })\n",
        "        return config\n"
      ],
      "execution_count": null,
      "outputs": []
    },
    {
      "cell_type": "markdown",
      "metadata": {
        "id": "8djwhyKa04P5"
      },
      "source": [
        "*(2) Test the customized simple RNN layer*"
      ]
    },
    {
      "cell_type": "code",
      "metadata": {
        "colab": {
          "base_uri": "https://localhost:8080/"
        },
        "id": "T3sD28XT0ROi",
        "outputId": "e37a7759-80cb-4bc6-8fc8-247d78b4f262"
      },
      "source": [
        "# test with customized layers\n",
        "RNN_layer    = RNN_simple_layer(4,return_sequences=True)\n",
        "# RNN_layer    = RNN_simple_layer(4,return_sequences=False)\n",
        "input_array  = tf.ones((32,10,8))\n",
        "output_array = RNN_layer(input_array)\n",
        "\n",
        "print('RNN input tensor shape:' + str(input_array.shape))\n",
        "print('RNN input tensor has batch size:' + str(input_array.shape[0]))\n",
        "print('RNN input tensor has time samples:' + str(input_array.shape[-2]))\n",
        "print('RNN input tensor has features of each sample:' + str(input_array.shape[-1]))\n",
        "print('RNN output tensor shape:' + str(output_array.shape))"
      ],
      "execution_count": null,
      "outputs": [
        {
          "output_type": "stream",
          "name": "stdout",
          "text": [
            "RNN input tensor shape:(32, 10, 8)\n",
            "RNN input tensor has batch size:32\n",
            "RNN input tensor has time samples:10\n",
            "RNN input tensor has features of each sample:8\n",
            "RNN output tensor shape:(32, 10, 4)\n"
          ]
        }
      ]
    },
    {
      "cell_type": "markdown",
      "metadata": {
        "id": "lInH_LAb1LZo"
      },
      "source": [
        "*(3) Build a dummy Tensorflow model*"
      ]
    },
    {
      "cell_type": "code",
      "metadata": {
        "colab": {
          "base_uri": "https://localhost:8080/"
        },
        "id": "tS9kqnMz0aCF",
        "outputId": "45c28d83-daf9-4b14-c794-434c0982a266"
      },
      "source": [
        "inputs  = tf.keras.Input(shape=(10,20))\n",
        "x       = tf.keras.layers.Conv1D(10,3)(inputs)\n",
        "x       = RNN_simple_layer(4,return_sequences=True)(x)\n",
        "outputs = tf.keras.layers.Dense(30, activation=\"relu\")(x)\n",
        "\n",
        "model = tf.keras.Model(inputs=inputs, outputs=outputs, name=\"test_model\")\n",
        "model.summary()\n"
      ],
      "execution_count": null,
      "outputs": [
        {
          "output_type": "stream",
          "name": "stdout",
          "text": [
            "Model: \"test_model\"\n",
            "_________________________________________________________________\n",
            " Layer (type)                Output Shape              Param #   \n",
            "=================================================================\n",
            " input_1 (InputLayer)        [(None, 10, 20)]          0         \n",
            "                                                                 \n",
            " conv1d (Conv1D)             (None, 8, 10)             610       \n",
            "                                                                 \n",
            " rnn_simple_layer_1 (RNN_sim  (None, None, 4)          60        \n",
            " ple_layer)                                                      \n",
            "                                                                 \n",
            " dense (Dense)               (None, None, 30)          150       \n",
            "                                                                 \n",
            "=================================================================\n",
            "Total params: 820\n",
            "Trainable params: 820\n",
            "Non-trainable params: 0\n",
            "_________________________________________________________________\n"
          ]
        }
      ]
    },
    {
      "cell_type": "markdown",
      "metadata": {
        "id": "tkNG7_zP1aTm"
      },
      "source": [
        "*(4) save the dummy model*"
      ]
    },
    {
      "cell_type": "code",
      "metadata": {
        "colab": {
          "base_uri": "https://localhost:8080/"
        },
        "id": "-M-BD8DJ0cL1",
        "outputId": "ec3044b8-69c8-49e1-f5d6-65052f25b00c"
      },
      "source": [
        "model.save('Model_simple_RNN')\n",
        "\n",
        "model_load = tf.keras.models.load_model('Model_simple_RNN')\n",
        "model_load.summary()"
      ],
      "execution_count": null,
      "outputs": [
        {
          "output_type": "stream",
          "name": "stderr",
          "text": [
            "WARNING:tensorflow:Compiled the loaded model, but the compiled metrics have yet to be built. `model.compile_metrics` will be empty until you train or evaluate the model.\n",
            "WARNING:absl:Found untraced functions such as _jit_compiled_convolution_op, call while saving (showing 2 of 2). These functions will not be directly callable after loading.\n",
            "WARNING:tensorflow:No training configuration found in save file, so the model was *not* compiled. Compile it manually.\n"
          ]
        },
        {
          "output_type": "stream",
          "name": "stdout",
          "text": [
            "Model: \"test_model\"\n",
            "_________________________________________________________________\n",
            " Layer (type)                Output Shape              Param #   \n",
            "=================================================================\n",
            " input_1 (InputLayer)        [(None, 10, 20)]          0         \n",
            "                                                                 \n",
            " conv1d (Conv1D)             (None, 8, 10)             610       \n",
            "                                                                 \n",
            " rnn_simple_layer_1 (RNN_sim  (None, None, 4)          60        \n",
            " ple_layer)                                                      \n",
            "                                                                 \n",
            " dense (Dense)               (None, None, 30)          150       \n",
            "                                                                 \n",
            "=================================================================\n",
            "Total params: 820\n",
            "Trainable params: 820\n",
            "Non-trainable params: 0\n",
            "_________________________________________________________________\n"
          ]
        }
      ]
    },
    {
      "cell_type": "markdown",
      "metadata": {
        "id": "v4tlRUXo1q8P"
      },
      "source": [
        "*(5) Convert the dummy model to tensorflow-lite model*"
      ]
    },
    {
      "cell_type": "code",
      "source": [
        "from tensorflow import lite\n",
        "\n",
        "converter = lite.TFLiteConverter.from_saved_model('Model_simple_RNN')\n",
        "\n",
        "converter.optimizations = [tf.lite.Optimize.DEFAULT]\n",
        "converter.experimental_new_converter=True\n",
        "converter.target_spec.supported_ops = [tf.lite.OpsSet.TFLITE_BUILTINS,tf.lite.OpsSet.SELECT_TF_OPS]\n",
        "\n",
        "tfmodel = converter.convert()\n",
        "open('Model_simple_RNN_TF28.tflite', 'wb').write(tfmodel)"
      ],
      "metadata": {
        "colab": {
          "base_uri": "https://localhost:8080/"
        },
        "id": "ccZ-A_mWnDZd",
        "outputId": "7057946c-c368-4d44-a577-29b8921678b1"
      },
      "execution_count": null,
      "outputs": [
        {
          "output_type": "execute_result",
          "data": {
            "text/plain": [
              "32184"
            ]
          },
          "metadata": {},
          "execution_count": 8
        }
      ]
    },
    {
      "cell_type": "code",
      "metadata": {
        "id": "gb1-juLa0fCd"
      },
      "source": [
        "# converter               = tf.lite.TFLiteConverter.from_saved_model('Model_simple_RNN')\n",
        "# converter.optimizations = [tf.lite.Optimize.DEFAULT]\n",
        "# converter.target_spec.supported_types = [tf.float32]\n",
        "\n",
        "# tflite_model_file = 'Model_simple_RNN_TF28.tflite'\n",
        "# tflite_model      = converter.convert()\n",
        "\n",
        "# with open(tflite_model_file, \"wb\") as f:\n",
        "#     f.write(tflite_model)"
      ],
      "execution_count": null,
      "outputs": []
    },
    {
      "cell_type": "code",
      "metadata": {
        "id": "TV4Pi7eW1kxp"
      },
      "source": [],
      "execution_count": null,
      "outputs": []
    }
  ]
}